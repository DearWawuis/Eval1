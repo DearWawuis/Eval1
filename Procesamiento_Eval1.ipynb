{
 "cells": [
  {
   "cell_type": "code",
   "execution_count": 1,
   "id": "5de01efe-6a05-4fc8-ad58-149e546b0aae",
   "metadata": {},
   "outputs": [],
   "source": [
    "import pandas as pd\n",
    "import numpy as np"
   ]
  },
  {
   "cell_type": "code",
   "execution_count": 3,
   "id": "d8aa19b2-0b5a-40be-89d9-eaa88d464578",
   "metadata": {},
   "outputs": [],
   "source": [
    "# Cargar tablas desde archivos CSV generados por Mockaroo\n",
    "clientes_df = pd.read_csv('clientes.csv')\n",
    "ventas_df = pd.read_csv('ventas.csv')\n",
    "persona_df = pd.read_csv('persona.csv')\n",
    "metodo_pago_df = pd.read_csv('metodoPago.csv')\n",
    "vehiculo_df = pd.read_csv('vehiculo.csv')\n",
    "sucursal_df = pd.read_csv('sucursal.csv')\n",
    "tiempo_df = pd.read_csv('tiempo.csv')"
   ]
  },
  {
   "cell_type": "code",
   "execution_count": 4,
   "id": "67da4beb-e1a8-4811-856c-355af03c66a7",
   "metadata": {},
   "outputs": [
    {
     "name": "stdout",
     "output_type": "stream",
     "text": [
      "Clientes\n",
      "   ID_Cliente  ID_Persona  ID_MetodoPago  Numero_total_alquileres  \\\n",
      "0           1           1              1                      437   \n",
      "1           2           2              2                      444   \n",
      "2           3           3              3                      152   \n",
      "3           4           4              4                      352   \n",
      "4           5           5              5                      566   \n",
      "\n",
      "   Gasto_total Ultima_fecha_alquiler  Duracion_promerio_alquiler  \n",
      "0      3901.69            18/01/2024                           4  \n",
      "1      9439.73            26/08/2024                          30  \n",
      "2      9769.99            05/06/2024                          26  \n",
      "3      6274.78            06/11/2023                           6  \n",
      "4      6522.91            17/08/2024                          17  \n",
      "Ventas\n",
      "   ID_Venta  ID_Cliente  ID_Vehiculo  ID_Sucursal  ID_Tiempo  \\\n",
      "0         1           1            1            1          1   \n",
      "1         2           2            2            2          2   \n",
      "2         3           3            3            3          3   \n",
      "3         4           4            4            4          4   \n",
      "4         5           5            5            5          5   \n",
      "\n",
      "  Fecha_de_alquiler  Monto_de_alquiler  Duracion_de_alquiler  \n",
      "0        25/01/2024            9961.33                    25  \n",
      "1        23/12/2023             599.69                    29  \n",
      "2        07/05/2022            1157.02                    27  \n",
      "3        14/03/2022            2342.47                    17  \n",
      "4        30/08/2024            2787.65                    20  \n",
      "Persona\n",
      "   ID_Persona               Nombre FechaNacimiento  \\\n",
      "0           1     Manuel Jodkowski      29/01/1998   \n",
      "1           2      Hilario Delaney      01/02/2000   \n",
      "2           3         Glen Pridham      22/07/1996   \n",
      "3           4  Evangelina Stedmond      18/02/1996   \n",
      "4           5       Shelby Teresse      26/05/1997   \n",
      "\n",
      "                         Email  Genero           Ciudad           Pais  \n",
      "0       mjodkowski0@census.gov    Male       Louisville  United States  \n",
      "1           hdelaney1@ox.ac.uk    Male  Shawnee Mission  United States  \n",
      "2        gpridham2@smugmug.com    Male  Shawnee Mission  United States  \n",
      "3        estedmond3@meetup.com  Female          Olympia  United States  \n",
      "4  steresse4@elegantthemes.com    Male          Madison  United States  \n",
      "MetodoPago\n",
      "   ID_MetodoPago         TipoPago        NombreBanco FechaExpiracion\n",
      "0              1              jcb      Kulas-Sanford         2027-05\n",
      "1              2              jcb           Yost Inc         2028-02\n",
      "2              3             visa     Greenholt-Wiza         2028-02\n",
      "3              4  americanexpress            Toy LLC         2027-11\n",
      "4              5          maestro  Jacobson and Sons         2026-06\n",
      "Vehiculo\n",
      "   ID_Vehiculo                                      Tipo_vehiculo      Marca  \\\n",
      "0            1          elementum eu interdum eu tincidunt in leo        GMC   \n",
      "1            2         euismod scelerisque quam turpis adipiscing        BMW   \n",
      "2            3  cubilia curae mauris viverra diam vitae quam s...    Lincoln   \n",
      "3            4           luctus et ultrices posuere cubilia curae   Chrysler   \n",
      "4            5            ac est lacinia nisi venenatis tristique  Chevrolet   \n",
      "\n",
      "                 Modelo   Año  Capacidad  \n",
      "0           Savana 1500  2012          1  \n",
      "1                   550  2006          5  \n",
      "2  Continental Mark VII  1986          6  \n",
      "3        Town & Country  2002          3  \n",
      "4        Silverado 3500  2002          5  \n",
      "Sucursal\n",
      "   ID_Sucursal                             Nombre          Ciudad  \\\n",
      "0            1          Fox Factory Holding Corp.     Baton Rouge   \n",
      "1            2      KKR Income Opportunities Fund          Reston   \n",
      "2            3                           RELX PLC       Rochester   \n",
      "3            4  Tekla Healthcare Opportunies Fund    Indianapolis   \n",
      "4            5     Progenics Pharmaceuticals Inc.  Virginia Beach   \n",
      "\n",
      "            Pais  Capacidad_almacenamiento  \n",
      "0  United States                        47  \n",
      "1  United States                        40  \n",
      "2  United States                        47  \n",
      "3  United States                        22  \n",
      "4  United States                        35  \n",
      "Tiempo\n",
      "   ID_Tiempo       Fecha  Mes   Año  Trimestre\n",
      "0          1  12/02/2024   12  2022          4\n",
      "1          2  07/10/2024   12  2023          3\n",
      "2          3  07/03/2022    8  2023          3\n",
      "3          4  12/12/2023    2  2020          3\n",
      "4          5  08/04/2023   11  2022          2\n"
     ]
    }
   ],
   "source": [
    "# Mostrar primeras filas de cada DataFrame\n",
    "print(\"Clientes\")\n",
    "print(clientes_df.head())\n",
    "\n",
    "print(\"Ventas\")\n",
    "print(ventas_df.head())\n",
    "\n",
    "print(\"Persona\")\n",
    "print(persona_df.head())\n",
    "\n",
    "print(\"MetodoPago\")\n",
    "print(metodo_pago_df.head())\n",
    "\n",
    "print(\"Vehiculo\")\n",
    "print(vehiculo_df.head())\n",
    "\n",
    "print(\"Sucursal\")\n",
    "print(sucursal_df.head())\n",
    "\n",
    "print(\"Tiempo\")\n",
    "print(tiempo_df.head())"
   ]
  },
  {
   "cell_type": "code",
   "execution_count": 5,
   "id": "e4816e63-24fb-45df-a302-a25827b7c873",
   "metadata": {},
   "outputs": [],
   "source": [
    "# Eliminar duplicados\n",
    "clientes_df.drop_duplicates(inplace=True)\n",
    "ventas_df.drop_duplicates(inplace=True)\n",
    "persona_df.drop_duplicates(inplace=True)\n",
    "metodo_pago_df.drop_duplicates(inplace=True)\n",
    "vehiculo_df.drop_duplicates(inplace=True)\n",
    "sucursal_df.drop_duplicates(inplace=True)\n",
    "tiempo_df.drop_duplicates(inplace=True)"
   ]
  },
  {
   "cell_type": "code",
   "execution_count": 6,
   "id": "fe9f2804-5640-487d-9fc8-7a6d675b27de",
   "metadata": {},
   "outputs": [],
   "source": [
    "# Eliminar filas con valores nulos\n",
    "clientes_df.dropna(inplace=True)\n",
    "ventas_df.dropna(inplace=True)\n",
    "persona_df.dropna(inplace=True)\n",
    "metodo_pago_df.dropna(inplace=True)\n",
    "vehiculo_df.dropna(inplace=True)\n",
    "sucursal_df.dropna(inplace=True)\n",
    "tiempo_df.dropna(inplace=True)"
   ]
  },
  {
   "cell_type": "code",
   "execution_count": 9,
   "id": "8ee65e6f-e7c6-4ab9-9df9-12465dc613b3",
   "metadata": {},
   "outputs": [
    {
     "name": "stderr",
     "output_type": "stream",
     "text": [
      "C:\\Users\\Tony\\AppData\\Local\\Temp\\ipykernel_12336\\1427709570.py:2: UserWarning: Parsing dates in %d/%m/%Y format when dayfirst=False (the default) was specified. Pass `dayfirst=True` or specify a format to silence this warning.\n",
      "  ventas_df['Fecha_de_alquiler'] = pd.to_datetime(ventas_df['Fecha_de_alquiler'], errors='coerce')\n"
     ]
    }
   ],
   "source": [
    "# Convertir la columna 'Fecha_de_Alquiler' a tipo datetime, forzando los errores a NaT (Not a Time)\n",
    "ventas_df['Fecha_de_alquiler'] = pd.to_datetime(ventas_df['Fecha_de_alquiler'], errors='coerce')"
   ]
  },
  {
   "cell_type": "code",
   "execution_count": 10,
   "id": "ea40f0b1-205d-4b1e-ac17-216173975836",
   "metadata": {},
   "outputs": [
    {
     "name": "stdout",
     "output_type": "stream",
     "text": [
      "Ventas\n",
      "   ID_Venta  ID_Cliente  ID_Vehiculo  ID_Sucursal  ID_Tiempo  \\\n",
      "0         1           1            1            1          1   \n",
      "1         2           2            2            2          2   \n",
      "2         3           3            3            3          3   \n",
      "3         4           4            4            4          4   \n",
      "4         5           5            5            5          5   \n",
      "\n",
      "  Fecha_de_alquiler  Monto_de_alquiler  Duracion_de_alquiler  \n",
      "0        2024-01-25            9961.33                    25  \n",
      "1        2023-12-23             599.69                    29  \n",
      "2        2022-05-07            1157.02                    27  \n",
      "3        2022-03-14            2342.47                    17  \n",
      "4        2024-08-30            2787.65                    20  \n"
     ]
    }
   ],
   "source": [
    "print(\"Ventas\")\n",
    "print(ventas_df.head())"
   ]
  },
  {
   "cell_type": "code",
   "execution_count": 12,
   "id": "380d7a4c-1afb-4560-a941-c978886f9fd5",
   "metadata": {},
   "outputs": [],
   "source": [
    "# Eliminar filas donde 'Fecha_de_Alquiler' sea NaT\n",
    "ventas_df = ventas_df[ventas_df['Fecha_de_alquiler'].notna()]\n"
   ]
  },
  {
   "cell_type": "code",
   "execution_count": 13,
   "id": "381d9d03-90b4-4670-be76-25546527d381",
   "metadata": {},
   "outputs": [],
   "source": [
    "# Eliminar filas donde la fecha de alquiler sea futura\n",
    "ventas_df = ventas_df[ventas_df['Fecha_de_alquiler'] <= pd.Timestamp.now()]"
   ]
  },
  {
   "cell_type": "code",
   "execution_count": 15,
   "id": "107f33ce-fc6c-4fff-8a32-3d17c3df9f64",
   "metadata": {},
   "outputs": [],
   "source": [
    "# Eliminar filas con montos de alquiler o gastos totales negativos\n",
    "ventas_df = ventas_df[ventas_df['Monto_de_alquiler'] >= 0]\n",
    "clientes_df = clientes_df[clientes_df['Gasto_total'] >= 0]"
   ]
  },
  {
   "cell_type": "code",
   "execution_count": 16,
   "id": "da059ab8-3c9a-4aca-9bfc-21cc6d3681f0",
   "metadata": {},
   "outputs": [
    {
     "name": "stderr",
     "output_type": "stream",
     "text": [
      "C:\\Users\\Tony\\AppData\\Local\\Temp\\ipykernel_12336\\3989680408.py:2: UserWarning: Parsing dates in %d/%m/%Y format when dayfirst=False (the default) was specified. Pass `dayfirst=True` or specify a format to silence this warning.\n",
      "  clientes_df['Ultima_fecha_alquiler'] = pd.to_datetime(clientes_df['Ultima_fecha_alquiler'], errors='coerce')\n",
      "C:\\Users\\Tony\\AppData\\Local\\Temp\\ipykernel_12336\\3989680408.py:3: UserWarning: Parsing dates in %d/%m/%Y format when dayfirst=False (the default) was specified. Pass `dayfirst=True` or specify a format to silence this warning.\n",
      "  persona_df['FechaNacimiento'] = pd.to_datetime(persona_df['FechaNacimiento'], errors='coerce')\n"
     ]
    }
   ],
   "source": [
    "# Formato consistente para fechas\n",
    "clientes_df['Ultima_fecha_alquiler'] = pd.to_datetime(clientes_df['Ultima_fecha_alquiler'], errors='coerce')\n",
    "persona_df['FechaNacimiento'] = pd.to_datetime(persona_df['FechaNacimiento'], errors='coerce')\n",
    "tiempo_df['Fecha'] = pd.to_datetime(tiempo_df['Fecha'], errors='coerce')"
   ]
  },
  {
   "cell_type": "code",
   "execution_count": 17,
   "id": "040e7c51-c9a1-4f06-bf96-52550994195e",
   "metadata": {},
   "outputs": [
    {
     "name": "stdout",
     "output_type": "stream",
     "text": [
      "<class 'pandas.core.frame.DataFrame'>\n",
      "RangeIndex: 1000 entries, 0 to 999\n",
      "Data columns (total 7 columns):\n",
      " #   Column                      Non-Null Count  Dtype         \n",
      "---  ------                      --------------  -----         \n",
      " 0   ID_Cliente                  1000 non-null   int64         \n",
      " 1   ID_Persona                  1000 non-null   int64         \n",
      " 2   ID_MetodoPago               1000 non-null   int64         \n",
      " 3   Numero_total_alquileres     1000 non-null   int64         \n",
      " 4   Gasto_total                 1000 non-null   float64       \n",
      " 5   Ultima_fecha_alquiler       1000 non-null   datetime64[ns]\n",
      " 6   Duracion_promerio_alquiler  1000 non-null   int64         \n",
      "dtypes: datetime64[ns](1), float64(1), int64(5)\n",
      "memory usage: 54.8 KB\n",
      "None\n",
      "<class 'pandas.core.frame.DataFrame'>\n",
      "RangeIndex: 1000 entries, 0 to 999\n",
      "Data columns (total 8 columns):\n",
      " #   Column                Non-Null Count  Dtype         \n",
      "---  ------                --------------  -----         \n",
      " 0   ID_Venta              1000 non-null   int64         \n",
      " 1   ID_Cliente            1000 non-null   int64         \n",
      " 2   ID_Vehiculo           1000 non-null   int64         \n",
      " 3   ID_Sucursal           1000 non-null   int64         \n",
      " 4   ID_Tiempo             1000 non-null   int64         \n",
      " 5   Fecha_de_alquiler     1000 non-null   datetime64[ns]\n",
      " 6   Monto_de_alquiler     1000 non-null   float64       \n",
      " 7   Duracion_de_alquiler  1000 non-null   int64         \n",
      "dtypes: datetime64[ns](1), float64(1), int64(6)\n",
      "memory usage: 62.6 KB\n",
      "None\n"
     ]
    }
   ],
   "source": [
    "# Verificar información general después de la limpieza\n",
    "print(clientes_df.info())\n",
    "print(ventas_df.info())"
   ]
  },
  {
   "cell_type": "code",
   "execution_count": 22,
   "id": "c57e5438-79c2-46af-99a1-62290331daae",
   "metadata": {},
   "outputs": [
    {
     "name": "stdout",
     "output_type": "stream",
     "text": [
      "ID_Cliente                    0\n",
      "ID_Persona                    0\n",
      "ID_MetodoPago                 0\n",
      "Numero_total_alquileres       0\n",
      "Gasto_total                   0\n",
      "Ultima_fecha_alquiler         0\n",
      "Duracion_promerio_alquiler    0\n",
      "dtype: int64\n",
      "ID_Venta                0\n",
      "ID_Cliente              0\n",
      "ID_Vehiculo             0\n",
      "ID_Sucursal             0\n",
      "ID_Tiempo               0\n",
      "Fecha_de_alquiler       0\n",
      "Monto_de_alquiler       0\n",
      "Duracion_de_alquiler    0\n",
      "dtype: int64\n",
      "ID_Persona         0\n",
      "Nombre             0\n",
      "FechaNacimiento    0\n",
      "Email              0\n",
      "Genero             0\n",
      "Ciudad             0\n",
      "Pais               0\n",
      "dtype: int64\n",
      "ID_MetodoPago      0\n",
      "TipoPago           0\n",
      "NombreBanco        0\n",
      "FechaExpiracion    0\n",
      "dtype: int64\n",
      "ID_Vehiculo      0\n",
      "Tipo_vehiculo    0\n",
      "Marca            0\n",
      "Modelo           0\n",
      "Año              0\n",
      "Capacidad        0\n",
      "dtype: int64\n",
      "ID_Sucursal                 0\n",
      "Nombre                      0\n",
      "Ciudad                      0\n",
      "Pais                        0\n",
      "Capacidad_almacenamiento    0\n",
      "dtype: int64\n",
      "ID_Tiempo    0\n",
      "Fecha        0\n",
      "Mes          0\n",
      "Año          0\n",
      "Trimestre    0\n",
      "dtype: int64\n"
     ]
    }
   ],
   "source": [
    "# Revisar si quedan valores nulos\n",
    "print(clientes_df.isnull().sum())\n",
    "print(ventas_df.isnull().sum())\n",
    "print(persona_df.isnull().sum())\n",
    "print(metodo_pago_df.isnull().sum())\n",
    "print(vehiculo_df.isnull().sum())\n",
    "print(sucursal_df.isnull().sum())\n",
    "print(tiempo_df.isnull().sum())"
   ]
  },
  {
   "cell_type": "code",
   "execution_count": 20,
   "id": "68595091-601f-4e13-9022-8c68240710b4",
   "metadata": {},
   "outputs": [],
   "source": [
    "# Eliminar filas con valores nulos\n",
    "clientes_df.dropna(inplace=True)\n",
    "ventas_df.dropna(inplace=True)\n",
    "persona_df.dropna(inplace=True)\n",
    "metodo_pago_df.dropna(inplace=True)\n",
    "vehiculo_df.dropna(inplace=True)\n",
    "sucursal_df.dropna(inplace=True)\n",
    "tiempo_df.dropna(inplace=True)"
   ]
  },
  {
   "cell_type": "code",
   "execution_count": 23,
   "id": "b17e1d09-9666-4997-bc9e-ece8e88496e9",
   "metadata": {},
   "outputs": [],
   "source": [
    "# Guardar los datos limpios en nuevos archivos CSV\n",
    "clientes_df.to_csv('Clientes_Limpios.csv', index=False)\n",
    "ventas_df.to_csv('Ventas_Limpios.csv', index=False)\n",
    "persona_df.to_csv('Persona_Limpios.csv', index=False)\n",
    "metodo_pago_df.to_csv('MetodoPago_Limpios.csv', index=False)\n",
    "vehiculo_df.to_csv('Vehiculo_Limpios.csv', index=False)\n",
    "sucursal_df.to_csv('Sucursal_Limpios.csv', index=False)\n",
    "tiempo_df.to_csv('Tiempo_Limpios.csv', index=False)"
   ]
  },
  {
   "cell_type": "code",
   "execution_count": 24,
   "id": "c16396fa-c558-41d6-87b6-88c43f42d23f",
   "metadata": {},
   "outputs": [
    {
     "name": "stdout",
     "output_type": "stream",
     "text": [
      "     ID_Sucursal  Monto_de_alquiler\n",
      "0              1            9961.33\n",
      "1              2             599.69\n",
      "2              3            1157.02\n",
      "3              4            2342.47\n",
      "4              5            2787.65\n",
      "..           ...                ...\n",
      "995          996            9477.88\n",
      "996          997             986.01\n",
      "997          998            7075.03\n",
      "998          999            7888.02\n",
      "999         1000            8947.42\n",
      "\n",
      "[1000 rows x 2 columns]\n"
     ]
    }
   ],
   "source": [
    "ventas_por_sucursal = ventas_df.groupby('ID_Sucursal')['Monto_de_alquiler'].sum().reset_index()\n",
    "print(ventas_por_sucursal)"
   ]
  },
  {
   "cell_type": "code",
   "execution_count": null,
   "id": "b864eab2-0d40-487d-9006-f72fd2986587",
   "metadata": {},
   "outputs": [],
   "source": []
  }
 ],
 "metadata": {
  "kernelspec": {
   "display_name": "Python 3 (ipykernel)",
   "language": "python",
   "name": "python3"
  },
  "language_info": {
   "codemirror_mode": {
    "name": "ipython",
    "version": 3
   },
   "file_extension": ".py",
   "mimetype": "text/x-python",
   "name": "python",
   "nbconvert_exporter": "python",
   "pygments_lexer": "ipython3",
   "version": "3.8.10"
  }
 },
 "nbformat": 4,
 "nbformat_minor": 5
}
